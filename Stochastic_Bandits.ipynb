{
 "cells": [
  {
   "cell_type": "markdown",
   "metadata": {},
   "source": [
    "# Performance Evaluation of Bandit Learning Algorithms\n",
    "**Author:**  \n",
    "\n",
    "Li Ge (2022533011，李舸)  \n",
    "\n",
    "Long Yuxuan (2022533034, 龙宇轩)  \n",
    "\n",
    "(In lexicographic order)\n",
    "\n",
    "**Contribution:**\n",
    "\n",
    "李舸：part I主要代码及分析部分, part II task2反例\n",
    "\n",
    "龙宇轩: part I绘图部分及图像结论, part II主要代码及分析部分\n",
    "\n",
    "以下文档内容均为两人讨论后的结果\n",
    "\n",
    "(In lexicographic order)"
   ]
  },
  {
   "cell_type": "markdown",
   "metadata": {},
   "source": [
    "## Part I: Classical Bandit Algorithms"
   ]
  },
  {
   "cell_type": "markdown",
   "metadata": {},
   "source": [
    "### Some necessary Python code:"
   ]
  },
  {
   "cell_type": "code",
   "execution_count": 2,
   "metadata": {},
   "outputs": [],
   "source": [
    "# Importing the libraries\n",
    "import numpy as np\n",
    "import matplotlib.pyplot as plt\n",
    "import math\n",
    "import random\n",
    "\n",
    "# Setting the time slots\n",
    "N = 5000\n",
    "# Setting the number of trials\n",
    "trialNumber = 200\n",
    "# Setting the number of arms\n",
    "armNumber = 3\n",
    "# Setting the Bernoulli distribution parameter for each arm\n",
    "theta = [0.7, 0.5, 0.4]\n",
    "\n",
    "# Sampling from Bernoulli distribution with parameter p\n",
    "def bernSample(p):\n",
    "    u = np.random.uniform(0,1)\n",
    "    if u <= p:\n",
    "        sample = 1\n",
    "    else:\n",
    "        sample = 0\n",
    "    return sample\n",
    "\n",
    "# Sampling from Beta distribution with parameters a and b\n",
    "def betaSample(a, b):\n",
    "    sample = np.random.beta(a, b)\n",
    "    return sample"
   ]
  },
  {
   "cell_type": "markdown",
   "metadata": {},
   "source": [
    "### Computing the theoretically maximized expectation of aggregate rewards over $N$ time slots (the oracle value):\n",
    "$$\n",
    "E = N \\cdot \\max{\\{0.7, 0.5, 0.4\\}} = 3500\n",
    "$$"
   ]
  },
  {
   "cell_type": "markdown",
   "metadata": {},
   "source": [
    "### Implementing the classical bandit algorithms:"
   ]
  },
  {
   "cell_type": "markdown",
   "metadata": {},
   "source": [
    "#### 1. $\\epsilon$-greedy Algorithm (0 ≤ $\\epsilon$ ≤ 1):"
   ]
  },
  {
   "cell_type": "code",
   "execution_count": 132,
   "metadata": {},
   "outputs": [
    {
     "name": "stdout",
     "output_type": "stream",
     "text": [
      "Epsilon-greedy Algorithm (0 ≤ epsilon ≤ 1):\n",
      "\n",
      "Epsilon = 0.1:\n",
      "Mean aggregated rewards: 3178.035000\n",
      "Mean regret: 321.965000\n",
      "\n",
      "Epsilon = 0.5:\n",
      "Mean aggregated rewards: 2912.020000\n",
      "Mean regret: 587.980000\n",
      "\n",
      "Epsilon = 0.9:\n",
      "Mean aggregated rewards: 2650.320000\n",
      "Mean regret: 849.680000\n"
     ]
    }
   ],
   "source": [
    "# Epsilon-Greedy Algorithm (0 ≤ epsilon ≤ 1)\n",
    "# randomly chosen from{1,2,3}\n",
    "def randomChoose():\n",
    "    u = np.random.uniform(0,1)\n",
    "    if u <= 1/3:\n",
    "        return 0\n",
    "    elif u <= 2/3:\n",
    "        return 1\n",
    "    else:\n",
    "        return 2\n",
    "\n",
    "# The Algorithm    \n",
    "def epsilonGreedy(epsilon):\n",
    "    totalRegret = 0\n",
    "    totalReward = 0\n",
    "    for trial in range(trialNumber):\n",
    "        # Initializing the variables\n",
    "        rewards = np.zeros(N)\n",
    "        reward = 0\n",
    "        count = np.zeros(armNumber)\n",
    "        estimatedMeans = np.zeros(armNumber)\n",
    "        # Conducting the experiment\n",
    "        for i in range(N): # i starts from 0, ends at N-1\n",
    "            # Select and pull the arm\n",
    "            u = np.random.uniform(0,1)\n",
    "            if u <= epsilon:\n",
    "                arm = randomChoose()\n",
    "            else:\n",
    "                arm = np.argmax(estimatedMeans)\n",
    "            # Update the information\n",
    "            rewards[i] = bernSample(theta[arm])\n",
    "            reward += rewards[i]\n",
    "            count[arm] += 1\n",
    "            estimatedMeans[arm] += (rewards[i] - estimatedMeans[arm])/count[arm]\n",
    "        totalRegret += 0.7*N - reward\n",
    "        totalReward += reward\n",
    "    meanRegret = totalRegret/trialNumber\n",
    "    meanReward = totalReward/trialNumber\n",
    "    resualt = [meanReward, meanRegret]\n",
    "    return resualt\n",
    "\n",
    "print(\"Epsilon-greedy Algorithm (0 ≤ epsilon ≤ 1):\")\n",
    "\n",
    "output = epsilonGreedy(0.1)\n",
    "print(\"\\nEpsilon = 0.1:\")\n",
    "print(\"Mean aggregated rewards: %f\" %(output[0]))\n",
    "print(\"Mean regret: %f\" %(output[1]))\n",
    "\n",
    "output = epsilonGreedy(0.5)\n",
    "print(\"\\nEpsilon = 0.5:\")\n",
    "print(\"Mean aggregated rewards: %f\" %(output[0]))\n",
    "print(\"Mean regret: %f\" %(output[1]))\n",
    "\n",
    "output = epsilonGreedy(0.9)\n",
    "print(\"\\nEpsilon = 0.9:\")\n",
    "print(\"Mean aggregated rewards: %f\" %(output[0]))\n",
    "print(\"Mean regret: %f\" %(output[1]))"
   ]
  },
  {
   "cell_type": "markdown",
   "metadata": {},
   "source": [
    "#### 2. UCB (Upper Confidence Bound) Algorithm:"
   ]
  },
  {
   "cell_type": "code",
   "execution_count": 26,
   "metadata": {},
   "outputs": [
    {
     "name": "stdout",
     "output_type": "stream",
     "text": [
      "UCB (Upper Confidence Bound) Algorithm:\n",
      "\n",
      "c = 1:\n",
      "Mean aggregated rewards: 3408.260000\n",
      "Mean regret: 91.740000\n",
      "\n",
      "c = 5:\n",
      "Mean aggregated rewards: 2982.380000\n",
      "Mean regret: 517.620000\n",
      "\n",
      "c = 10:\n",
      "Mean aggregated rewards: 2825.430000\n",
      "Mean regret: 674.570000\n"
     ]
    }
   ],
   "source": [
    "# UCB (Upper Confidence Bound) Algorithm\n",
    "def ucb(c):\n",
    "    totalRegret = 0\n",
    "    totalReward = 0\n",
    "    for trial in range(trialNumber):\n",
    "        # Initializing the variables\n",
    "        rewards = np.zeros(N)\n",
    "        reward = 0\n",
    "        count = np.zeros(armNumber)\n",
    "        estimatedMeans = np.zeros(armNumber)\n",
    "        # Conducting the experiment\n",
    "        for i in range(N): # i starts from 0, ends at N-1\n",
    "            if i < armNumber:\n",
    "                rewards[i] = bernSample(theta[i])\n",
    "                reward += rewards[i]\n",
    "                count[i] += 1\n",
    "                estimatedMeans[i] = rewards[i]\n",
    "            else:\n",
    "                # Select and pull the arm\n",
    "                ucb = np.zeros(armNumber)\n",
    "                ucb[0] = estimatedMeans[0] + c * np.sqrt(2*np.log(i)/count[0])    \n",
    "                ucb[1] = estimatedMeans[1] + c * np.sqrt(2*np.log(i)/count[1])\n",
    "                ucb[2] = estimatedMeans[2] + c * np.sqrt(2*np.log(i)/count[2])\n",
    "                arm = np.argmax(ucb)\n",
    "                # Update the information\n",
    "                rewards[i] = bernSample(theta[arm])\n",
    "                reward += rewards[i]\n",
    "                count[arm] += 1\n",
    "                estimatedMeans[arm] += (rewards[i] - estimatedMeans[arm])/count[arm]\n",
    "        totalRegret += 0.7*N - reward\n",
    "        totalReward += reward\n",
    "    meanRegret = totalRegret/trialNumber\n",
    "    meanReward = totalReward/trialNumber\n",
    "    resualt = [meanReward, meanRegret]\n",
    "    return resualt\n",
    "\n",
    "print(\"UCB (Upper Confidence Bound) Algorithm:\")\n",
    "\n",
    "output = ucb(1)\n",
    "print(\"\\nc = 1:\")\n",
    "print(\"Mean aggregated rewards: %f\" %(output[0]))\n",
    "print(\"Mean regret: %f\" %(output[1]))\n",
    "\n",
    "output = ucb(5)\n",
    "print(\"\\nc = 5:\")\n",
    "print(\"Mean aggregated rewards: %f\" %(output[0]))\n",
    "print(\"Mean regret: %f\" %(output[1]))\n",
    "\n",
    "output = ucb(10)\n",
    "print(\"\\nc = 10:\")\n",
    "print(\"Mean aggregated rewards: %f\" %(output[0]))\n",
    "print(\"Mean regret: %f\" %(output[1]))"
   ]
  },
  {
   "cell_type": "markdown",
   "metadata": {},
   "source": [
    "#### 3. TS (Thompson Sampling) Algorithm"
   ]
  },
  {
   "cell_type": "code",
   "execution_count": 7,
   "metadata": {},
   "outputs": [
    {
     "name": "stdout",
     "output_type": "stream",
     "text": [
      "TS (Thompson Sampling) Algorithm:\n",
      "\n",
      "Prior parameter: {(1, 1), (1, 1), (1, 1)}:\n",
      "Mean aggregated rewards: 3500.735000\n",
      "Mean regret: -0.735000\n",
      "\n",
      "Prior parameter: {(601, 401), (401, 601), (2, 3)}:\n",
      "Mean aggregated rewards: 3497.585000\n",
      "Mean regret: 2.415000\n"
     ]
    }
   ],
   "source": [
    "# TS (Thompson Sampling) Algorithm\n",
    "def ts(a1, b1, a2, b2, a3, b3):\n",
    "    prior = [[a1, b1], [a2, b2], [a3, b3]]\n",
    "    totalRegret = 0\n",
    "    totalReward = 0\n",
    "    for trial in range(trialNumber):\n",
    "        # Initializing the variables\n",
    "        rewards = np.zeros(N)\n",
    "        reward = 0\n",
    "        estimatedMeans = np.zeros(armNumber)\n",
    "        # Conducting the experiment\n",
    "        for i in range(N): # i starts from 0, ends at N-1\n",
    "            # Sample model\n",
    "            for eachArm in range(armNumber):\n",
    "                estimatedMeans[eachArm] = betaSample(prior[eachArm][0], prior[eachArm][1])\n",
    "            # Select and pull the arm\n",
    "            arm = np.argmax(estimatedMeans)\n",
    "            # Update the Beta distribution\n",
    "            output = bernSample(theta[arm])\n",
    "            prior[arm][0] += output\n",
    "            prior[arm][1] += 1 - output\n",
    "            # Update the information\n",
    "            rewards[i] = output\n",
    "            reward += rewards[i]\n",
    "        totalRegret += 0.7*N - reward\n",
    "        totalReward += reward\n",
    "    meanRegret = totalRegret/trialNumber\n",
    "    meanReward = totalReward/trialNumber\n",
    "    resualt = [meanReward, meanRegret]\n",
    "    return resualt\n",
    "\n",
    "print(\"TS (Thompson Sampling) Algorithm:\")\n",
    "\n",
    "output = ts(1, 1, 1, 1, 1, 1)\n",
    "print(\"\\nPrior parameter: {(1, 1), (1, 1), (1, 1)}:\")\n",
    "print(\"Mean aggregated rewards: %f\" %(output[0]))\n",
    "print(\"Mean regret: %f\" %(output[1]))\n",
    "\n",
    "output = ts(601, 401, 401, 601, 2, 3)\n",
    "print(\"\\nPrior parameter: {(601, 401), (401, 601), (2, 3)}:\")\n",
    "print(\"Mean aggregated rewards: %f\" %(output[0]))\n",
    "print(\"Mean regret: %f\" %(output[1]))"
   ]
  },
  {
   "cell_type": "markdown",
   "metadata": {},
   "source": [
    "### Comparison and analysis:\n",
    "1. The results of the three algorithms:    \n",
    "\n",
    "| Algorithms                       | $\\epsilon$-greedy           | UCB                   | TS                                           |\n",
    "| -------------------------------- | --------------------------- | --------------------- | -------------------------------------------- |\n",
    "| Runtime(approximation, per test) | 3.6s                        | 6.6s                  | 3.9s                                         | \n",
    "| Mean Regret                      | $\\epsilon=0.1$: 86.415000   | $c = 1$: 91.740000    | {(1, 1), (1, 1), (1, 1)}: -0.735000        |\n",
    "| Mean Regret                      | $\\epsilon=0.5$: 421.590000  | $c = 5$: 517.620000   | {(601, 401), (401, 601), (2, 3)}: 2.415000 |\n",
    "| Mean Regret                      | $\\epsilon=0.9$: 752.195000  | $c = 10$: 674.570000  |    /                                          |\n",
    "\n",
    "   - The results derived by the $\\epsilon$-greedy Algorithm and UCB Algorithm by the given parameters are very close. Going deeper, we may conclude that $\\epsilon$-greedy Algorithm is slightly better (with less regret) with small $\\epsilon (\\text{e.g. } \\epsilon \\leq 0.5)$, and the UCB Algorithm might perform better with larger constant $c (\\text{e.g. } c \\geq 10)$.\n",
    "     \n",
    "   - As for the TS Algorithm, it's obviously better (with much less regret) than the other two algorithms.  \n",
    "   \n",
    "   - The $\\epsilon$-greedy Algorithm and TS Algorithm have close runtime, and they are both faster than $\\epsilon$-greedy Algorithm. (The runtime here and in the table above may vary from different machines, and it's calculated within a single test (consider only one parameter).)\n",
    "   \n",
    "   More detailed analysis for the algorithm **resides as follows**, together with the analysis of their parameters.\n",
    "\n",
    "2. The impacts of their parameters and deeper analysis:  \n",
    "   \n",
    "   **NOTICE: For the cohesion of this essay, the curve of the relation between the regret and different choices of parameters resides in the next part - \"Understanding of the exploration-exploitation trade-off\". Here we just elucidate our idea with natural language.**  \n",
    "\n",
    "   - $\\epsilon$: The regret increases as $\\epsilon$ increases and it's almost linear relation (worst among the three algorithm). Since the randomly generated number $u \\leq \\epsilon$ determines that we do random choice (exploration phase) rather than conducting exploitation, we may derive the conclusion that relatively more exploitation work leads to less regret.  \n",
    "\n",
    "      The reason that this algorithm has a linear worst-case regret is that since it's equally possible to choose each arm, when choosing the third arm (the arm with lowest probability to give reward) every time as the worst case, the regret increments by a constant 0.3 each round. \n",
    "   \n",
    "   - $c$: The regret increases as $c$ increases with sublinear relation (better than the $\\epsilon$-greedy Algorithm). We can derive the conclusion that: when quantitatively delimiting the confidence interval (by multiplying with a constant $c$), the smaller the constant is, the less regret it may cause. Also the constant cannot be too small, or the update is trivial and we may conversely have higher chance to choose those suboptimal arms.   \n",
    "   \n",
    "      This algorithm is also intuitively reasonable, since every time we update the information of an arm, the corresponding confidence interval swells, with a higher confidence level. Therefore, the case that the upper bound of one interval is greater than the other is actually more credible and strict, which accounts for the reasonableness of this algorithm.\n",
    "     \n",
    "      Let's put more consideration on the confidence interval delimitation, both quantitatively and qualitatively:\n",
    "      We cite the conclusion from Bandit Algorithms (T. Lattimore & C. Szepesvari, 2020. Page 117):   \n",
    "      \n",
    "      *For any 1-subgaussian bandit with Algorithm:* $A_t = \\text{arg max}_{i}(\\widehat{\\mu_i}(t+1) + \\sqrt{\\dfrac{2\\log{f(t)}}{T_i(t-1)}})$, where $f(t) = 1 + t\\log^2{(t)}$, *the regret $R_n$ satisfies:*  \n",
    "      \n",
    "      $$\n",
    "      R_n \\leq  \\sum_{i:\\Delta_i > 0}  \\inf_{\\varepsilon\\in(0, \\Delta_i)}\\Delta_i(1+\\dfrac{5}{\\varepsilon^2} + \\dfrac{2(\\log{f(n) + \\sqrt{\\pi\\log{f(n)}} + 1})}{{(\\Delta_i - \\varepsilon)}^2})\n",
    "      $$\n",
    "      \n",
    "      where $\\Delta_i$ is the difference between the max expectation and the real reward in each round.    \n",
    "\n",
    "      *\"This algorithm leads the regret to a constant and such that governs the asymptotic rate of growth of regret.\"* This asymptotic bound is merely achieved by modifying the delimitation of the confidence interval (instead of letting $f(t) = t$ in the version of UCB provided for us), and *\"it's unimprovable in a strong sense.\"*   \n",
    "\n",
    "      This version is better than the origin version: Quantitatively, the regret is lower. Qualitatively, since it leads the regret to a constant (the asymptotic bound), it has better performance especially when time slot is large.\n",
    "   \n",
    "   - $\\alpha_j, \\beta_j$ (defined for the prior distribution): Our analysis is based on the conjugacy of beta distribution. \n",
    "      - If $\\alpha_j$ and $\\beta_j$ are both small numbers (as shown in the case $\\{(1, 1), (1, 1), (1, 1)\\}$), the later experiments can have a big effect on the distribution. \n",
    "   \n",
    "      - If $\\alpha_j$ or $\\beta_j$ is large numbers (as shown in the case $\\{(601, 401), (401, 601), (2, 3)\\}$), the later experiments would have little effect, especially during the first few experiments. This can be easily explained by the conjugacy of beta distribution: for the posterior distribution $\\text{Beta}(a+k, b+n-k)$, $k$ and $n$ have little effect if $a$ or $b$ is large numbers. \n",
    "   \n",
    "      More analysis for this algorithm: In spite of the little difference in the table, the two cases actually perform similarly after we run this algorithm for several times. Since the first case with $\\{(1, 1), (1, 1), (1, 1)\\}$ actually maximizes the effect of the later experiments, we conjectured that the output of the second case still being close is because the choice of the prior distribution for the large numbers $\\{(601, 401), (401, 601)\\}$ obeys the actual probability (oracle value) relation, which leads to similar result as the first case.  \n",
    "      \n",
    "      Given the analysis above, we could learn that the choice of the prior distribution is extremely crucial. Since we have no idea of the exact distribution for each arm, we had better set the parameters of the prior distribution $\\alpha_j, \\beta_j$ as small as possible, e.g. $(1, 1)$. This is aimed to weaken the awful impact of large parameters, since if the prior distribution of large parameters is disparate from the actual distribution (e.g. $\\text{Beta}(200, 800)$ with actual distribution $\\text{Bern}(0.9)$), the offset is overly hard to correct, and the incipient experiments may cause a great deal of regret. This is shown in the code snippet below with a blast regret of **1000.570000**!  \n",
    "\n",
    "      Furthermore, this algorithm does not provide us with deterministic choice like the first two algorithms, instead, it offers us a distribution for the next movement. This \"random choice\" performs well when the environment is no more stochastic. Specifically, when the environment can conversely \"exploit\" **us** by observing our past choices and minimize our reward accordingly, a randomly generated movement is the only approach to deriving a sublinear worst-case regret (Bandit Algorithms, T. Lattimore & C. Szepesvari, 2020. Page 149), which is widely used in dealing with Adversarial Bandits."
   ]
  },
  {
   "cell_type": "code",
   "execution_count": 10,
   "metadata": {},
   "outputs": [
    {
     "name": "stdout",
     "output_type": "stream",
     "text": [
      "\n",
      "Prior parameter: {(200, 800), (800, 200), (2, 3)}:\n",
      "Mean aggregated rewards: 2499.430000\n",
      "Mean regret: 1000.570000\n"
     ]
    }
   ],
   "source": [
    "# If the prior distribution has large parameters and is disparate from the actual distribution (oracle value)\n",
    "output = ts(200, 800, 800, 200, 2, 3)\n",
    "print(\"\\nPrior parameter: {(200, 800), (800, 200), (2, 3)}:\")\n",
    "print(\"Mean aggregated rewards: %f\" %(output[0]))\n",
    "print(\"Mean regret: %f\" %(output[1]))"
   ]
  },
  {
   "cell_type": "markdown",
   "metadata": {},
   "source": [
    "### Understanding of the exploration-exploitation trade-off:\n",
    "It's significant that we choose a proper algorithm and parameters. The idea that drives us to designing the exploration-exploitation mechanism is to lower down the order of growth of the regret to a **sublinear** growth as much as possible.   \n",
    "\n",
    "1. Obviously, the exploration and exploitation somehow contradict with each other. The first algorithm conducts these two phases separately, while the other two algorithm did not. We may draw a vague conclusion that it's not proper to conduct them separately, unless stipulating some rules to optimize the random choosing (exploration) process in $\\epsilon$-greedy, for example, designating weight to the random choice with regard to the result of the prior exploitation phase. Furthermore, since $\\epsilon$ represents the trade-off, by experiment and optimization work we may derive a relatively optimized $\\epsilon$. The implementation of these two ideas are shown as follows:  "
   ]
  },
  {
   "cell_type": "code",
   "execution_count": 7,
   "metadata": {},
   "outputs": [
    {
     "data": {
      "image/png": "[encoded data removed]",
      "text/plain": [
       "<Figure size 640x480 with 1 Axes>"
      ]
     },
     "metadata": {},
     "output_type": "display_data"
    }
   ],
   "source": [
    "# The regret of Epsilon-Greedy Algorithm for different epsilon\n",
    "\n",
    "Epsilon = np.linspace(0, 1, 100)\n",
    "Regret = [epsilonGreedy(x)[1] for x in Epsilon]\n",
    "plt.plot(Epsilon, Regret)\n",
    "plt.xlabel('Epsilon')\n",
    "plt.ylabel('Regret')\n",
    "plt.show()"
   ]
  },
  {
   "cell_type": "markdown",
   "metadata": {},
   "source": [
    "The figure above shows the result of the simulation about how the regret is related to $\\epsilon $.\n",
    "\n",
    "Our intuitive conclusions from the figure (suppose $R$ is the regret):\n",
    "\n",
    "- The increase in $\\epsilon$ leads an increase in $R$.\n",
    "- $R=k\\epsilon $, where $k$ is a positive constant. (We can infer that $k\\approx800$ from the figure.)\n",
    "- We may choose $\\epsilon=0$ to optimize this algorithm."
   ]
  },
  {
   "cell_type": "code",
   "execution_count": 32,
   "metadata": {},
   "outputs": [
    {
     "name": "stdout",
     "output_type": "stream",
     "text": [
      "Epsilon-greedy Algorithm (0 ≤ epsilon ≤ 1):\n",
      "\n",
      "Epsilon = 0.1:\n",
      "Mean aggregated rewards: 3440.720000\n",
      "Mean regret: 59.280000\n",
      "\n",
      "Epsilon = 0.5:\n",
      "Mean aggregated rewards: 3261.330000\n",
      "Mean regret: 238.670000\n",
      "\n",
      "Epsilon = 0.9:\n",
      "Mean aggregated rewards: 2839.320000\n",
      "Mean regret: 660.680000\n"
     ]
    }
   ],
   "source": [
    "# Our enhanced version of Epsilon-Greedy Algorithm:\n",
    "\n",
    "# By designating weight to the random choice with regard to the result of the prior exploitation phase.\n",
    "def randomChoose(a, b): # a, b represent the prior estimation.\n",
    "    u = np.random.uniform(0, 1)\n",
    "    if u <= a:\n",
    "        return 0\n",
    "    elif u <= b:\n",
    "        return 1\n",
    "    else:\n",
    "        return 2\n",
    "\n",
    "# The Algorithm    \n",
    "def epsilonGreedy(epsilon):\n",
    "    totalRegret = 0\n",
    "    totalReward = 0\n",
    "    for trial in range(trialNumber):\n",
    "        # Initializing the variables\n",
    "        rewards = np.zeros(N)\n",
    "        reward = 0\n",
    "        count = np.zeros(armNumber)\n",
    "        estimatedMeans = np.zeros(armNumber)\n",
    "        # Conducting the experiment\n",
    "        for i in range(N): # i starts from 0, ends at N-1\n",
    "            # Select and pull the arm by the enhanced version of Epsilon-Greedy Algorithm, learning from the past results.\n",
    "            if i == 0:\n",
    "                a = 1/3\n",
    "                b = 2/3\n",
    "            else:\n",
    "                a = count[0]/i\n",
    "                b = (count[0] + count[1])/i\n",
    "            u = np.random.uniform(0, 1)\n",
    "            if u <= epsilon:\n",
    "                arm = randomChoose(a, b) # Instead of randomChoose()\n",
    "            else:\n",
    "                arm = np.argmax(estimatedMeans)\n",
    "            # Update the information\n",
    "            rewards[i] = bernSample(theta[arm])\n",
    "            reward += rewards[i]\n",
    "            count[arm] += 1\n",
    "            estimatedMeans[arm] += (rewards[i] - estimatedMeans[arm])/count[arm]\n",
    "            # Exploit the player's action and lower the mean if the arm with highest mean was chosen too frequently\n",
    "        totalRegret += 0.7*N - reward\n",
    "        totalReward += reward\n",
    "    meanRegret = totalRegret/trialNumber\n",
    "    meanReward = totalReward/trialNumber\n",
    "    resualt = [meanReward, meanRegret]\n",
    "    return resualt\n",
    "\n",
    "print(\"Epsilon-greedy Algorithm (0 ≤ epsilon ≤ 1):\")\n",
    "\n",
    "output = epsilonGreedy(0.1)\n",
    "print(\"\\nEpsilon = 0.1:\")\n",
    "print(\"Mean aggregated rewards: %f\" %(output[0]))\n",
    "print(\"Mean regret: %f\" %(output[1]))\n",
    "\n",
    "output = epsilonGreedy(0.5)\n",
    "print(\"\\nEpsilon = 0.5:\")\n",
    "print(\"Mean aggregated rewards: %f\" %(output[0]))\n",
    "print(\"Mean regret: %f\" %(output[1]))\n",
    "\n",
    "output = epsilonGreedy(0.9)\n",
    "print(\"\\nEpsilon = 0.9:\")\n",
    "print(\"Mean aggregated rewards: %f\" %(output[0]))\n",
    "print(\"Mean regret: %f\" %(output[1]))"
   ]
  },
  {
   "cell_type": "markdown",
   "metadata": {},
   "source": [
    "It also turns out that this optimization is rather successful especially when choosing a proper $\\epsilon$ (a relatively small one):   \n",
    "The table of regret:\n",
    "| Algorithms/$\\epsilon$ | Original $\\epsilon$-greedy | Our enhanced $\\epsilon$-greedy |\n",
    "| --------------------- | -------------------------- | ------------------------------ |\n",
    "| $\\epsilon=0.1$        | 86.415000                  | 59.280000                      | \n",
    "| $\\epsilon=0.5$        | 421.590000                 | 238.670000                     |\n",
    "| $\\epsilon=0.9$        | 752.195000                 | 660.680000                     |  \n",
    "\n",
    "We conjectured that this enhancement can prevent the linear regret caused by absolute randomness with each probability of $\\frac{1}{3}$, by improving the average-case regret, since we assigned the weight from our past results empirically."
   ]
  },
  {
   "cell_type": "markdown",
   "metadata": {},
   "source": [
    "2. The UCB Algorithm conducts these two phases together in each round:  \n",
    "   \n",
    "   In our implementation, `estimatedMeans[i]` represents the exploitation work, and `c * np.sqrt(2*np.log(i)/count[i])` represents the exploration work with a constant $c$ representing the trade-off. Since we have already talked about the delimitation of the confidence interval in the last part and proposed a optimised version there, we only consider $c$, the weight while balancing two phases, namely trade-off. \n",
    "\n",
    "   From the figure below, we can draw the conclusion that:  \n",
    "\n",
    "   We should put more emphasis on"
   ]
  },
  {
   "cell_type": "markdown",
   "metadata": {},
   "source": [
    "Suppose $R_x$ is the regret when $c=x$. \n",
    "\n",
    "The data we collected tells us that $R_1<R_5<R_{10} $. We can give a intuitive guess that $c=c* $ which optimize this algorithm satisfies that $0<c*<5$. Thus we may find $c*$ by searching the interval $(0,5) $."
   ]
  },
  {
   "cell_type": "code",
   "execution_count": 11,
   "metadata": {},
   "outputs": [
    {
     "data": {
      "image/png": "[encoded data removed]",
      "text/plain": [
       "<Figure size 640x480 with 1 Axes>"
      ]
     },
     "metadata": {},
     "output_type": "display_data"
    }
   ],
   "source": [
    "# The regret of UCB Algorithm for different c\n",
    "\n",
    "c = np.linspace(0, 5, 100)\n",
    "Regret = [ucb(x)[1] for x in c]\n",
    "plt.plot(c, Regret)\n",
    "plt.xlabel('c')\n",
    "plt.ylabel('Regret')\n",
    "plt.show()"
   ]
  },
  {
   "cell_type": "markdown",
   "metadata": {},
   "source": [
    "The figure above shows the result of our simulation about how the regret is related to $c$. \n",
    "\n",
    "Our intuitive conclusions from the figure:\n",
    "\n",
    "- When $c<c*$, the increase in $c$ leads a decrease in the regret.\n",
    "- When $c>c*$, the increase in $c$ leads an increase in the regret.\n",
    "- $0<c*<0.5$.\n",
    "- We may choose $c=c*$ to optimize this algorithm.\n",
    "\n",
    "More accurately:"
   ]
  },
  {
   "cell_type": "code",
   "execution_count": 18,
   "metadata": {},
   "outputs": [
    {
     "name": "stdout",
     "output_type": "stream",
     "text": [
      "c_star = 0.300000\n"
     ]
    }
   ],
   "source": [
    "c_star=np.argmin(Regret) * (5 / 100)\n",
    "print(\"c_star = %f\"%(c_star))"
   ]
  },
  {
   "cell_type": "markdown",
   "metadata": {},
   "source": [
    "The result of the simulation tells us that $c*\\approx 0.3$."
   ]
  },
  {
   "cell_type": "markdown",
   "metadata": {},
   "source": [
    "3. The TS Algorithm also conducts these two phases together in each round:  \n",
    "\n",
    "    Since this algorithm is based on Bayes Analysis and the conjugacy of Beta distribution, according to our analysis before, we could conclude that:   \n",
    "\n",
    "    This algorithm puts more emphasis on exploration in the initial period (when parameters of Beta distribution is relatively small, indicating lacking of \"experience\"). While during the later period, it's focus veers to the exploitation, with more dependency on the past experience. It's worth nothing that this trade-off is automatically done due to the conjugacy of Beta distribution. \n",
    "    \n",
    "    We surmise that the advantage of this trade-off approach is that more exploration in the initial period ensures the right direction of the later experiments with less regret, and our experiment shows that this is the best approach to trade-off among all the algorithms provided.\n",
    "\n",
    "The exploitation and exploration phases are not absolutely separate. Taken the TS Algorithm for an example, both the initial period and the later period involve exploitation and exploration, and the difference is that for every round which phase we put more emphasis on."
   ]
  },
  {
   "cell_type": "markdown",
   "metadata": {},
   "source": [
    "### Dealing with the dependent case:\n",
    "1. Our definition of \"dependent\":\n",
    "   \n",
    "   For the independent case, we consider that the distribution of reward of each arm does not change and is independent with each other and with the past choices of the players. With regard to \"dependent\", it refers that the bandit can also somehow learn from the past situations and \"exploit\" the actions of the players in order to minimize our reward. This is related to the problem known as \"Adversarial Bandits\". \n",
    "\n",
    "2. Comparison with the classic Stochastic Bandits and analysis:\n",
    "\n",
    "   NOTE: This part is inspired by: Bandit Algorithms, T. Lattimore & C. Szepesvari, 2020, Chapter 11: The Exp3 Algorithm, and we will quote the idea of the book in ***inclined letter***.\n",
    "\n",
    "   Although the bandit can observe our past actions, we still have two advantages:\n",
    "   \n",
    "   - We always go one step ahead of the bandit.\n",
    "   - Consequently, we can conduct \"exploration\" while the bandit cannot.\n",
    "   \n",
    "   These two advantages ensures that in the process of confronting the evil bandit, we can still optimize our reward.\n",
    "\n",
    "   Besides, the book provides two analysis for the actual algorithms. The relatively weaker one is that *the worst-case stochastic regret is upper-bounded by the worst-case adversarial regret.* And the stronger one says *sublinear worst-case regret is only possible by using a randomised policy.*\n",
    "\n",
    "   This tells us that the core of our algorithm is designing a function that can read our past experiment and generate a new **distribution** of the action in the next round. Note that the algorithm for the Stochastic Bandits that generates deterministic choice is no more functional.\n",
    "\n",
    "3. Design thought:\n",
    "   \n",
    "   The target distribution of our algorithm can actually be regarded as a conditional probability:\n",
    "\n",
    "   $$\n",
    "   P_t = P(A_t = i \\mid A_1, A_2, \\cdots, A_{t-1})(0 < t \\leq N, i\\in\\{1, 2, 3\\})\n",
    "   $$\n",
    "   \n",
    "   where $t$ is the current round and $A_t\\in\\{1, 2, 3\\}$ is the chosen arm.\n",
    "\n",
    "   It's natural that when considering the past experiment, we assign weight to each arm according to our estimated distribution. However, we should also consider: **If the past experiment is reliable (with more round involved or other judgement), we should give more consideration of the weight of the arm with the highest mean, and the distribution curve will gather around that arm. Conversely, if the past experiment is less reliable, less weight will be considered into the arm with the highest mean (still more than those with lower mean), and the distribution curve will be more stable (uniform).** \n",
    "   \n",
    "   The illustration of this intuition is shown below:\n",
    "   \n",
    "   **NOTE: The data presented in the following figures are assumed and used for illustrative purpose to visualize the relationships between data points. They are not real data.**"
   ]
  },
  {
   "cell_type": "code",
   "execution_count": 13,
   "metadata": {},
   "outputs": [
    {
     "data": {
      "image/png": "[encoded data removed]",
      "text/plain": [
       "<Figure size 640x480 with 1 Axes>"
      ]
     },
     "metadata": {},
     "output_type": "display_data"
    }
   ],
   "source": [
    "# The distribution curve gathers around the arm with the highest mean, this involves more exploitation.\n",
    "x = [1/3, 2/3, 1]\n",
    "y = [0.8, 0.3, 0.1] #assumed\n",
    "plt.scatter(x, y)\n",
    "x_labels = ['Theta_{}'.format(i+1) for i in range(len(x))]\n",
    "plt.xticks(x, x_labels)\n",
    "plt.yticks([0, 1])\n",
    "plt.show()\n"
   ]
  },
  {
   "cell_type": "code",
   "execution_count": 14,
   "metadata": {},
   "outputs": [
    {
     "data": {
      "image/png": "[encoded data removed]",
      "text/plain": [
       "<Figure size 640x480 with 1 Axes>"
      ]
     },
     "metadata": {},
     "output_type": "display_data"
    }
   ],
   "source": [
    "# The distribution curve is more stable (uniform) around the arm with the highest mean, this involves more exploration.\n",
    "\n",
    "y = [0.8, 0.7, 0.6] #assumed\n",
    "plt.scatter(x, y)\n",
    "plt.ylim(0, 1)\n",
    "plt.xticks(x, x_labels)\n",
    "plt.yticks([0, 1])\n",
    "plt.show()"
   ]
  },
  {
   "cell_type": "markdown",
   "metadata": {},
   "source": [
    "   This is actually a kind of exploration-exploitation trade-off: when the distribution curve gathers around an arm, we are actually putting more emphasis on exploitation, and **this is done at the initial period**. If the distribution curve is more stable (uniform), we are doing more exploration, and **this is done at later period**.\n",
    "\n",
    "   Fortunately, we have found a very suitable algorithm for this, which is **Softmax Transformation**:\n",
    "\n",
    "   This is a method for converting a set of real numbers (in this problem: weight - $\\{w_1, w_2, w_3\\}$) into a probability distribution. \n",
    "   \n",
    "\n",
    "   $$\n",
    "   p_i = \\dfrac{e^{w_i/\\tau}}{\\displaystyle\\sum_{j}e^{w_j/\\tau}}, (i \\in \\{1,2,3\\}, \\tau > 0)\n",
    "   $$\n",
    "   \n",
    "   \n",
    "   It has a parameter $\\tau$ (a.k.a. the temperature parameter) that determines how much consideration of wight we make when designing the new distribution. A greater $\\tau$ leads to a more stable (uniform) distribution, while a smaller $\\tau$ leads to more concentration of probabilities around the arms with higher weights (means). "
   ]
  },
  {
   "cell_type": "markdown",
   "metadata": {},
   "source": [
    "4. Design details:\n",
    "   \n",
    "   - How to design a bandit that can learn and exploit: since our algorithm should have sublinear regret with respect to time, we are actually putting more emphasis on the arm with the highest true mean. Therefore, the bandit will observe that if we choose the arm with the highest mean too frequently (this is defined by a proportionality coefficient according to the proportion of their mean), it will automatically modulate the award ditribution of that arm and lower it's mean (but the order of the three means still remains).  \n",
    "   \n",
    "   - The wight is assigned by the mean of the latest estimated distribution for each arm. \n",
    "\n",
    "   - A new choice distribution is generated according to the weight and Softmax Transformation. And we sample from that new distribution to decide our next choice. Note that $\\tau$ is decreasing with more experiments and more certainty of the distribution.\n",
    "\n",
    "The Python code is shown as follows:"
   ]
  },
  {
   "cell_type": "code",
   "execution_count": 154,
   "metadata": {},
   "outputs": [
    {
     "name": "stdout",
     "output_type": "stream",
     "text": [
      "Mean aggregated rewards: 3228.530000\n",
      "Mean regret: 271.470000\n"
     ]
    }
   ],
   "source": [
    "# Algorithm for Adversarial Bandits\n",
    "def randomChoose(a, b): # a, b represent the consideration of weights in the new distribution, 0 < a < b < 1.\n",
    "    u = np.random.uniform(0,1)\n",
    "    if u <= a:\n",
    "        return 0\n",
    "    elif u <= b:\n",
    "        return 1\n",
    "    else:\n",
    "        return 2\n",
    "\n",
    "# The Algorithm    \n",
    "def adverseBandit(c): # c is a constant used for defining the temperature parameter tau\n",
    "    totalRegret = 0\n",
    "    totalReward = 0\n",
    "    for trial in range(trialNumber):\n",
    "        # Initializing the variables\n",
    "        rewards = np.zeros(N)\n",
    "        reward = 0\n",
    "        count = np.zeros(armNumber)\n",
    "        estimatedMeans = np.zeros(armNumber)\n",
    "        # Conducting the experiment\n",
    "        for i in range(N): # i starts from 0, ends at N-1\n",
    "            tau = c / (i+1) # The temperature parameter, we will expand on this below.\n",
    "            # Select and pull the arm by the enhanced version of Epsilon-Greedy Algorithm, learning from the past results.\n",
    "            sum = estimatedMeans[0] + estimatedMeans[1] + estimatedMeans[2]\n",
    "            if sum == 0:\n",
    "                w0 = 1\n",
    "                w1 = 1\n",
    "                w2 = 1\n",
    "            else:\n",
    "                # The wight is assigned by the mean of the latest estimated ditribution for each arm:\n",
    "                w0 = estimatedMeans[0]/sum\n",
    "                w1 = estimatedMeans[1]/sum\n",
    "                w2 = estimatedMeans[2]/sum\n",
    "            sum = math.exp(w0/tau) + math.exp(w1/tau) + math.exp(w2/tau)\n",
    "            # Implementing the Softmax Transformation\n",
    "            a = math.exp(w0/tau)/sum\n",
    "            b = math.exp(w0/tau)/sum + math.exp(w1/tau)/sum\n",
    "            # The arm sampled from the new distribution:\n",
    "            arm = randomChoose(a, b) \n",
    "            # Update the information:\n",
    "            rewards[i] = bernSample(theta[arm])\n",
    "            reward += rewards[i]\n",
    "            count[arm] += 1\n",
    "            estimatedMeans[arm] += (rewards[i] - estimatedMeans[arm])/count[arm]\n",
    "            # Exploit the player's action and lower the mean if the arm with highest mean was chosen too frequently\n",
    "            if count[0] > 0.7 * i: # If the arm 0 was chosen too frequently\n",
    "                theta[0] -= 0.1 / (i+1) * (theta[0] - theta[1] - 0.15) # Lower the mean of arm 0\n",
    "        totalRegret += 0.7*N - reward\n",
    "        totalReward += reward\n",
    "    meanRegret = totalRegret/trialNumber\n",
    "    meanReward = totalReward/trialNumber\n",
    "    resualt = [meanReward, meanRegret]\n",
    "    return resualt\n",
    "\n",
    "output = adverseBandit(10)\n",
    "print(\"Mean aggregated rewards: %f\" %(output[0]))\n",
    "print(\"Mean regret: %f\" %(output[1]))\n"
   ]
  },
  {
   "cell_type": "markdown",
   "metadata": {},
   "source": [
    "Explanation of the code: \n",
    "\n",
    "1. The update rule of the estimated means is the same as the UCB.\n",
    "\n",
    "2. We define the $\\tau$ by `tau = c / (i+1)`: the numerator $c$ can be numbers from 9 to 23, and this is interval chosen deliberately after testing integers from 8 to 100, and the denominator is chosen to be linear with $i$ after testing sublinear functions like log and square root. Also, this cannot exceed linear too much since if the time slot is large, there might be `math range error`.\n",
    "\n",
    "3. The bandit lowers the probability by `theta[0] -= 0.1 / (i+1) * (theta[0] - theta[1] - 0.15)`. This is mostly designed by avoiding the maximum oracle mean `theta[0]` to decrease under or too close to the second maximum `theta[1]`.\n",
    "\n",
    "**Conclusion:**\n",
    "\n",
    "This algorithm performs well when the bandit can learn and exploit by itself. And if we choose not to generate any distribution, but only choose the arm with the greatest estimated mean (generate a deterministic), the regret is higher."
   ]
  },
  {
   "cell_type": "markdown",
   "metadata": {},
   "source": [
    "## Part II: Bayesian Bandit Algorithms(Optional)\n",
    "### Check the behavior of the policy\n",
    "Given the prior parameters $\\alpha_i , \\beta_i$, success probability $\\theta_i$ and the reward $\\gamma $, now we are computing the regret using the policy that choose the arm with maximal expected $\\theta_i$."
   ]
  },
  {
   "cell_type": "code",
   "execution_count": 4,
   "metadata": {},
   "outputs": [],
   "source": [
    "# simulation code\n",
    "def check(alpha1, beta1, alpha2, beta2, theta_1, theta_2, Gamma):\n",
    "    totalRegret = 0\n",
    "    for i in range(trialNumber):\n",
    "        reward = 0 # total reward of each trail\n",
    "        oracle_value = 0\n",
    "        reward_j = 1 # the reward of the j-th pull\n",
    "        maxTheta = max(theta_1, theta_2)\n",
    "        for j in range(N):\n",
    "            oracle_value += maxTheta * reward_j\n",
    "            expected_theta_1 = alpha1 / (alpha1 + beta1) \n",
    "            expected_theta_2 = alpha2 / (alpha2 + beta2)\n",
    "            u = random.uniform(0, 1)\n",
    "            if expected_theta_1 >= expected_theta_2 : # choose the first arm\n",
    "               if u <= theta_1 :\n",
    "                   reward += reward_j\n",
    "                   alpha1 += 1\n",
    "               else:\n",
    "                   beta1 += 1\n",
    "            else:   # choose the second arm\n",
    "                if u <= theta_2 :\n",
    "                   reward += reward_j\n",
    "                   alpha2 += 1\n",
    "                else:\n",
    "                   beta2 += 1\n",
    "            reward_j *= Gamma\n",
    "        totalRegret += oracle_value - reward\n",
    "    return totalRegret/trialNumber"
   ]
  },
  {
   "cell_type": "markdown",
   "metadata": {},
   "source": [
    "Suppose $\\theta_1 =0.7, \\theta_2 =0.2,\\gamma=0.7$. Now we are checking the behaviour of this policy given $(\\alpha_1,\\beta_1,\\alpha_2,\\beta_2)=(1,1,1,1) $, $(\\alpha_1,\\beta_1,\\alpha_2,\\beta_2)=(2,1,1,2)$ and $(\\alpha_1,\\beta_1,\\alpha_2,\\beta_2)=(1,2,2,1)$.\n",
    "\n",
    "For the convenience of implementation, **we set the time slot to be $N$(5000) instead of infinity.** This is reasonable since the tail experiments generate trivial regret."
   ]
  },
  {
   "cell_type": "code",
   "execution_count": 10,
   "metadata": {},
   "outputs": [
    {
     "name": "stdout",
     "output_type": "stream",
     "text": [
      "Oracle value: 3.333333\n",
      "\n",
      "Prior parameter: [1, 1, 1, 1]\n",
      "Mean reward: 3.388842\n",
      "Mean regret: -0.055508\n",
      "\n",
      "Prior parameter: [2, 1, 1, 2]\n",
      "Mean reward: 3.335177\n",
      "Mean regret: -0.001844\n",
      "\n",
      "Prior parameter: [1, 2, 2, 1]\n",
      "Mean reward: 3.284302\n",
      "Mean regret: 0.049031\n",
      "\n"
     ]
    }
   ],
   "source": [
    "parameter = [[1, 1, 1, 1], [2, 1, 1, 2], [1, 2, 2, 1]]\n",
    "theta_1 = 0.7\n",
    "theta_2 = 0.2\n",
    "Gamma = 0.7\n",
    "oracleValue = 0\n",
    "for i in range(N): oracleValue += Gamma ** i\n",
    "print(\"Oracle value: %f\\n\"%(oracleValue))\n",
    "for data in parameter:\n",
    "    regret = check(data[0], data[1], data[2], data[3], theta_1, theta_2, Gamma)\n",
    "    print(\"Prior parameter:\",data)\n",
    "    print(\"Mean reward: %f\" %(oracleValue - regret))\n",
    "    print(\"Mean regret: %f\\n\" %(regret))"
   ]
  },
  {
   "cell_type": "markdown",
   "metadata": {},
   "source": [
    "### A counter-example leading to suboptimal regret:\n",
    "\n",
    "As is mentioned in the analysis of TS algorithm in part I, the choice of the prior distribution has enormous effect on the regret, and if we are not absolutely sure about the relationships of the real distribution, we had better set the parameters of the prior distribution $\\alpha_j, \\beta_j$ as small as possible, e.g. $(1, 1)$. (As is analyzed before, this is aimed to weaken the awful impact of large parameters, since if the prior distribution of large parameters is disparate from the actual distribution (oracle value) (e.g. $\\text{Beta}(200, 800)$ with actual distribution $\\text{Bern}(0.9)$), the offset is overly hard to correct, and the incipient experiments may cause a great amount of regret.)\n",
    "\n",
    "The code snippet exemplifying this is shown as follows:"
   ]
  },
  {
   "cell_type": "code",
   "execution_count": 4,
   "metadata": {},
   "outputs": [
    {
     "name": "stdout",
     "output_type": "stream",
     "text": [
      "Oracle value: 3.333333\n",
      "\n",
      "Prior parameter: [150, 850, 850, 150]\n",
      "Mean regret: 1.677078\n",
      "\n"
     ]
    }
   ],
   "source": [
    "data = [150, 850, 850, 150]\n",
    "theta_1 = 0.7\n",
    "theta_2 = 0.2\n",
    "Gamma = 0.7\n",
    "oracleValue = 0\n",
    "for i in range(N): oracleValue += Gamma ** i\n",
    "print(\"Oracle value: %f\\n\"%(oracleValue))\n",
    "regret = check(data[0], data[1], data[2], data[3], theta_1, theta_2, Gamma)\n",
    "print(\"Prior parameter:\",data)\n",
    "print(\"Mean regret: %f\\n\" %(regret))"
   ]
  },
  {
   "cell_type": "markdown",
   "metadata": {},
   "source": [
    "From the output, we could draw the conclusion that when the prior distribution is disparate from the actual distribution with large parameters, the regret will be high. (Since $\\gamma$ ranges from 0 to 1, the regret seems still trivial, but now it takes up much higher proportion of the oracle value.)"
   ]
  },
  {
   "cell_type": "markdown",
   "metadata": {},
   "source": [
    "### The proof of the equation\n",
    "Suppose\n",
    "\n",
    "$$\n",
    "R_1(\\alpha_1,\\beta_1)=\\frac{\\alpha_1}{\\alpha_1+\\beta_1}(1+\\gamma R(\\alpha_1+1,\\beta_1,\\alpha_2,\\beta_2))+\\frac{\\beta_1}{\\alpha_1+\\beta_1}\\gamma R(\\alpha_1,\\beta_1+1,\\alpha_2,\\beta_2)\n",
    "$$\n",
    "\n",
    "$$\n",
    "R_2(\\alpha_2,\\beta_2)=\\frac{\\alpha_2}{\\alpha_2+\\beta_2}(1+\\gamma R(\\alpha_1,\\beta_1,\\alpha_2+1,\\beta_2))+\\frac{\\beta_2}{\\alpha_2+\\beta_2}\\gamma R(\\alpha_1,\\beta_1,\\alpha_2,\\beta_2+1)\n",
    "$$\n",
    "Then we have $R(\\alpha_1,\\beta_1,\\alpha_2,\\beta_2)=\\max\\{R_1(\\alpha_1,\\beta_1),R_2(\\alpha_2,\\beta_2)\\} $, where $R(\\alpha_1,\\beta_1,\\alpha_2,\\beta_2)$ is the expected total reward under an optimal policy when the prior parameters are $\\alpha_1,\\beta_1,\\alpha_2,\\beta_2$.\n",
    "\n",
    "#### proof\n",
    "Let $R_1'(\\alpha_1,\\beta_1,\\alpha_2,\\beta_2)$ be the expected total reward under an optimal policy if we choose arm 1 in the first pull, and we define $R_2'(\\alpha_1,\\beta_1,\\alpha_2,\\beta_2)$ similarly. Since the first pull is either arm 1 or arm 2, we have $R(\\alpha_1,\\beta_1,\\alpha_2,\\beta_2)=\\max\\{R_1'(\\alpha_1,\\beta_1,\\alpha_2,\\beta_2),R_2'(\\alpha_1,\\beta_1,\\alpha_2,\\beta_2)\\} $.\n",
    "\n",
    "Suppose we choose arm 1 in the first pull:\n",
    "\n",
    "If the first pull results in a success, we will obtain 1 as a reward. Then we update the prior parameters to $(\\alpha_1+1,\\beta_1,\\alpha_2,\\beta_2) $ for the next pull. Now we start a new process and regard the second pull as the first pull, the expected total reward under an optimal policy is $R(\\alpha_1+1,\\beta_1,\\alpha_2,\\beta_2)$. Since the reward is $\\gamma^{t-1}$ at $t^{th}$ pull and we pull infinite times, the reward at $s^{th}$ pull in the new process is the reward at $s+1^{st} $ pull in the original process, $\\text{i.e.} \\gamma^s=\\gamma \\cdot \\gamma^{s-1} $. Then we will obtain $\\gamma R(\\alpha_1+1,\\beta_1,\\alpha_2,\\beta_2) $ in reward. Thus the total reward is $1+\\gamma R(\\alpha_1+1,\\beta_1,\\alpha_2,\\beta_2) $ if the first pull succeeds.\n",
    " \n",
    "If the first pull fails, we will not obtain any reward. And then we update the prior parameters to $(\\alpha_1,\\beta_1+1,\\alpha_2,\\beta_2) $ for the next pull. Similarly as before, we will obtain $\\gamma R(\\alpha_1,\\beta_1+1,\\alpha_2,\\beta_2)$ as a reward if we follow the optimal policy.\n",
    "\n",
    "Since the first pull succeeds with expected probability $\\dfrac{\\alpha_1}{\\alpha_1+\\beta_1} $ and fails with expected probability $\\dfrac{\\beta_1}{\\alpha_1+\\beta_1}$, the expected total reward we obtain if we pull arm 1 first is \n",
    "\n",
    "\\begin{align*}\n",
    "R_1'(\\alpha_1,\\beta_1,\\alpha_2,\\beta_2)&=E[E(\\theta_1 (1+\\gamma R(\\alpha_1+1,\\beta_1,\\alpha_2,\\beta_2))+(1-\\theta_1)\\gamma R(\\alpha_1,\\beta_1+1,\\alpha_2,\\beta_2)\\mid{(\\alpha_1,\\beta_1,\\alpha_2,\\beta_2)})]\\\\&\n",
    "=E[\\theta_1 (1+\\gamma R(\\alpha_1+1,\\beta_1,\\alpha_2,\\beta_2))+(1-\\theta_1)\\gamma R(\\alpha_1,\\beta_1+1,\\alpha_2,\\beta_2)]\\\\&\n",
    "=\\frac{\\alpha_1}{\\alpha_1+\\beta_1}(1+\\gamma R(\\alpha_1+1,\\beta_1,\\alpha_2,\\beta_2))+\\frac{\\beta_1}{\\alpha_1+\\beta_1}\\gamma R(\\alpha_1,\\beta_1+1,\\alpha_2,\\beta_2)\n",
    "\\end{align*}\n",
    "By symmetric,\n",
    "\n",
    "$$\n",
    "R_2'(\\alpha_1,\\beta_1,\\alpha_2,\\beta_2)=\\frac{\\alpha_2}{\\alpha_2+\\beta_2}(1+\\gamma R(\\alpha_1,\\beta_1,\\alpha_2+1,\\beta_2))+\\frac{\\beta_2}{\\alpha_2+\\beta_2}\\gamma R(\\alpha_1,\\beta_1,\\alpha_2,\\beta_2+1)\n",
    "$$\n",
    "Note that $R_1(\\alpha_1,\\beta_1)=R_1'(\\alpha_1,\\beta_1,\\alpha_2,\\beta_2),R_2(\\alpha_2,\\beta_2)=R_2'(\\alpha_1,\\beta_1,\\alpha_2,\\beta_2)$, we obtain \n",
    "$$\n",
    "R(\\alpha_1,\\beta_1,\\alpha_2,\\beta_2)=\\max\\{R_1'(\\alpha_1,\\beta_1,\\alpha_2,\\beta_2),R_2'(\\alpha_1,\\beta_1,\\alpha_2,\\beta_2)\\}=\\max\\{R_1(\\alpha_1,\\beta_1),R_2(\\alpha_2,\\beta_2)\\}\n",
    "$$"
   ]
  },
  {
   "cell_type": "markdown",
   "metadata": {},
   "source": [
    "## Ending\n",
    "Bandit learning is significant for understanding decision-making under uncertainty. It has applications in psychology, behavioral economics, AI, and helps analyze choices, rewards, and optimization strategies in various domains, such as market competition and machine learning. In computer science, bandit learning problem has extensive applications, particularly in reinforcement learning and algorithm optimization.\n",
    "\n",
    "Our study has presented the implementation, simulation, analysis and optimization of some classical algorithms for Stochastic Bandits and explored the Adversarial Bandits by raising a self-designed algorithm. Besides, we also conducted some further analysis with regard to Bayesian Bandits if the reward is decreasing as we pull. We have displayed the behaviour of the policy that choose the arm with maximal expected $\\theta_i$ in such a situation. Then we have also shown that this is not optimal policy given the prior parameters and found the reward in the optimal policy.\n",
    "\n",
    "However, this study is rather \"superficial\" and there are still much more issues that warrant further exploration."
   ]
  }
 ],
 "metadata": {
  "kernelspec": {
   "display_name": "Python 3",
   "language": "python",
   "name": "python3"
  },
  "language_info": {
   "codemirror_mode": {
    "name": "ipython",
    "version": 3
   },
   "file_extension": ".py",
   "mimetype": "text/x-python",
   "name": "python",
   "nbconvert_exporter": "python",
   "pygments_lexer": "ipython3",
   "version": "3.11.7"
  }
 },
 "nbformat": 4,
 "nbformat_minor": 2
}
